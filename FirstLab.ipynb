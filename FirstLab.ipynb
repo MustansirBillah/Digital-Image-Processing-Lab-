{
 "cells": [
  {
   "cell_type": "code",
   "execution_count": 9,
   "metadata": {
    "collapsed": false
   },
   "outputs": [
    {
     "name": "stdout",
     "output_type": "stream",
     "text": [
      "Hello World!\n"
     ]
    }
   ],
   "source": [
    "print(\"Hello World!\")"
   ]
  },
  {
   "cell_type": "markdown",
   "metadata": {},
   "source": [
    "# Welcome to PYTHON"
   ]
  },
  {
   "cell_type": "markdown",
   "metadata": {},
   "source": [
    "# Calculator Program "
   ]
  },
  {
   "cell_type": "code",
   "execution_count": 8,
   "metadata": {
    "collapsed": false
   },
   "outputs": [
    {
     "name": "stdout",
     "output_type": "stream",
     "text": [
      "Enter 1st Number: 3\n",
      "Enter 2nd Number: 4\n",
      "Enter Operator:+\n",
      "7\n"
     ]
    }
   ],
   "source": [
    "a = int(input(\"Enter 1st Number: \"))\n",
    "b = int(input(\"Enter 2nd Number: \"))\n",
    "op = input(\"Enter Operator:\")\n",
    "if(op=='+'):\n",
    "    sum = a+b\n",
    "    print(sum)\n",
    "elif(op=='-'):\n",
    "    sum = a-b\n",
    "    print(sum)\n",
    "elif(op=='*'):\n",
    "    sum = a*b\n",
    "    print(sum)\n",
    "elif(op=='/'):\n",
    "    sum = a/b\n",
    "    print(sum)\n",
    "else:\n",
    "    print(\"Wrong Input!\")"
   ]
  },
  {
   "cell_type": "markdown",
   "metadata": {},
   "source": [
    "# program that inputs month number and generate season"
   ]
  },
  {
   "cell_type": "code",
   "execution_count": 13,
   "metadata": {
    "collapsed": false
   },
   "outputs": [
    {
     "name": "stdout",
     "output_type": "stream",
     "text": [
      "Enter a Month Numer from 1-12:2\n",
      "Month is Autumn\n"
     ]
    }
   ],
   "source": [
    "a = int(input(\"Enter a Month Numer from 1-12:\"))\n",
    "if(a>=1 and a<=2):\n",
    "    print(\"Month is Autumn\")\n",
    "elif(a>=3 and a<=4):\n",
    "    print(\"Month is Spring\")\n",
    "elif(a>=5 and a<=8):\n",
    "    print(\"Month is Summer\")\n",
    "elif(a==9):\n",
    "    print(\"Month is Fall\")\n",
    "elif(a>=10 and a<=12):\n",
    "    print(\"Month is Winter\")\n",
    "else:\n",
    "    print(\"Wrong Input!\")"
   ]
  },
  {
   "cell_type": "markdown",
   "metadata": {},
   "source": [
    "\n",
    "# 3.\tTo determine whether a year is a leap year, follow these steps:\n",
    "1.\tIf the year is evenly divisible by 4, go to step 2. Otherwise, go to step 5.\n",
    "2.\tIf the year is evenly divisible by 100, go to step 3. Otherwise, go to step 4.\n",
    "3.\tIf the year is evenly divisible by 400, go to step 4. Otherwise, go to step 5.\n",
    "4.\tThe year is a leap year (it has 366 days).\n",
    "5.\tThe year is not a leap year (it has 365 days).\n",
    "\n",
    "Write a program to input an year as integer. Using if…else, determines whether the input is a leap year or not.\n"
   ]
  },
  {
   "cell_type": "code",
   "execution_count": 17,
   "metadata": {
    "collapsed": false
   },
   "outputs": [
    {
     "name": "stdout",
     "output_type": "stream",
     "text": [
      "Enter an Year: 2016\n",
      "This  2016  is a Leap Year\n"
     ]
    }
   ],
   "source": [
    "a = int(input(\"Enter an Year: \"))\n",
    "if(a%4==0):\n",
    "    if(a%100==0):\n",
    "        if(a%400==0):\n",
    "            print(\"This \",a,\" is a Leap Year\")\n",
    "        else:\n",
    "            print(\"This \",a,\" is not a Leap Year\")\n",
    "    else:\n",
    "        print(\"This \",a,\" is a Leap Year\")\n",
    "else:\n",
    "    print(\"This \",a,\" is not a Leap Year\")"
   ]
  },
  {
   "cell_type": "markdown",
   "metadata": {},
   "source": [
    "# 4.\tWrite a program that takes a line as input and finds the number of letters and digits in the input"
   ]
  },
  {
   "cell_type": "code",
   "execution_count": 27,
   "metadata": {
    "collapsed": false
   },
   "outputs": [
    {
     "name": "stdout",
     "output_type": "stream",
     "text": [
      "Enter a String:bv3123v\n",
      "Number of digit:  3\n",
      "Number of Number:  4\n"
     ]
    }
   ],
   "source": [
    "a = input(\"Enter a String:\")\n",
    "d = 0\n",
    "n = 0\n",
    "for x in a:\n",
    "    if(x.isalpha()):\n",
    "        d +=1 \n",
    "    elif(x.isnumeric()):\n",
    "        n +=1\n",
    "print(\"Number of digit: \",d)\n",
    "print(\"Number of Number: \",n)\n"
   ]
  },
  {
   "cell_type": "markdown",
   "metadata": {},
   "source": [
    "# 5.\tWrite a program that takes a sentence as input. Compute the frequency of each words and prints them. "
   ]
  },
  {
   "cell_type": "code",
   "execution_count": 35,
   "metadata": {
    "collapsed": false
   },
   "outputs": [
    {
     "name": "stdout",
     "output_type": "stream",
     "text": [
      "Enter a Sentence:This is my sentence and I am late in my class.\n",
      "List:\n",
      "['This', 'is', 'my', 'sentence', 'and', 'I', 'am', 'late', 'in', 'my', 'class.']\n",
      "\n",
      "Frequencies:\n",
      "[1, 1, 2, 1, 1, 1, 1, 1, 1, 2, 1]\n",
      "\n"
     ]
    }
   ],
   "source": [
    "wordstring = input(\"Enter a Sentence:\")\n",
    "wordlist = []\n",
    "wordlist = wordstring.split()\n",
    "wordfreq = []\n",
    "\n",
    "for w in wordlist:\n",
    "    wordfreq.append(wordlist.count(w))\n",
    "print(\"List:\\n\" + str(wordlist) + \"\\n\")\n",
    "print(\"Frequencies:\\n\" + str(wordfreq) + \"\\n\")"
   ]
  },
  {
   "cell_type": "markdown",
   "metadata": {},
   "source": [
    "# Write a Program to print Numbers 1-100. "
   ]
  },
  {
   "cell_type": "code",
   "execution_count": 41,
   "metadata": {
    "collapsed": false
   },
   "outputs": [
    {
     "name": "stdout",
     "output_type": "stream",
     "text": [
      "0\n",
      "2\n",
      "4\n",
      "6\n",
      "8\n",
      "10\n",
      "12\n",
      "14\n",
      "16\n",
      "18\n",
      "20\n",
      "22\n",
      "24\n",
      "26\n",
      "28\n",
      "30\n",
      "32\n",
      "34\n",
      "36\n",
      "38\n",
      "40\n",
      "42\n",
      "44\n",
      "46\n",
      "48\n",
      "50\n",
      "52\n",
      "54\n",
      "56\n",
      "58\n",
      "60\n",
      "62\n",
      "64\n",
      "66\n",
      "68\n",
      "70\n",
      "72\n",
      "74\n",
      "76\n",
      "78\n",
      "80\n",
      "82\n",
      "84\n",
      "86\n",
      "88\n",
      "90\n",
      "92\n",
      "94\n",
      "96\n",
      "98\n",
      "100\n"
     ]
    }
   ],
   "source": [
    "for x in range(0,101,2):\n",
    "    print(x)"
   ]
  },
  {
   "cell_type": "markdown",
   "metadata": {},
   "source": [
    "# Write a program to print Number 100-1"
   ]
  },
  {
   "cell_type": "code",
   "execution_count": 44,
   "metadata": {
    "collapsed": false
   },
   "outputs": [
    {
     "name": "stdout",
     "output_type": "stream",
     "text": [
      "100\n",
      "99\n",
      "98\n",
      "97\n",
      "96\n",
      "95\n",
      "94\n",
      "93\n",
      "92\n",
      "91\n",
      "90\n",
      "89\n",
      "88\n",
      "87\n",
      "86\n",
      "85\n",
      "84\n",
      "83\n",
      "82\n",
      "81\n",
      "80\n",
      "79\n",
      "78\n",
      "77\n",
      "76\n",
      "75\n",
      "74\n",
      "73\n",
      "72\n",
      "71\n",
      "70\n",
      "69\n",
      "68\n",
      "67\n",
      "66\n",
      "65\n",
      "64\n",
      "63\n",
      "62\n",
      "61\n",
      "60\n",
      "59\n",
      "58\n",
      "57\n",
      "56\n",
      "55\n",
      "54\n",
      "53\n",
      "52\n",
      "51\n",
      "50\n",
      "49\n",
      "48\n",
      "47\n",
      "46\n",
      "45\n",
      "44\n",
      "43\n",
      "42\n",
      "41\n",
      "40\n",
      "39\n",
      "38\n",
      "37\n",
      "36\n",
      "35\n",
      "34\n",
      "33\n",
      "32\n",
      "31\n",
      "30\n",
      "29\n",
      "28\n",
      "27\n",
      "26\n",
      "25\n",
      "24\n",
      "23\n",
      "22\n",
      "21\n",
      "20\n",
      "19\n",
      "18\n",
      "17\n",
      "16\n",
      "15\n",
      "14\n",
      "13\n",
      "12\n",
      "11\n",
      "10\n",
      "9\n",
      "8\n",
      "7\n",
      "6\n",
      "5\n",
      "4\n",
      "3\n",
      "2\n",
      "1\n"
     ]
    }
   ],
   "source": [
    "for x in range(100,0,-1):\n",
    "    print(x)"
   ]
  },
  {
   "cell_type": "code",
   "execution_count": null,
   "metadata": {
    "collapsed": true
   },
   "outputs": [],
   "source": []
  }
 ],
 "metadata": {
  "kernelspec": {
   "display_name": "Python [Root]",
   "language": "python",
   "name": "Python [Root]"
  },
  "language_info": {
   "codemirror_mode": {
    "name": "ipython",
    "version": 3
   },
   "file_extension": ".py",
   "mimetype": "text/x-python",
   "name": "python",
   "nbconvert_exporter": "python",
   "pygments_lexer": "ipython3",
   "version": "3.5.2"
  }
 },
 "nbformat": 4,
 "nbformat_minor": 0
}
